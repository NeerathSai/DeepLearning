{
  "nbformat": 4,
  "nbformat_minor": 0,
  "metadata": {
    "colab": {
      "name": "200968206_week1.ipynb",
      "provenance": []
    },
    "kernelspec": {
      "name": "python3",
      "display_name": "Python 3"
    },
    "language_info": {
      "name": "python"
    }
  },
  "cells": [
    {
      "cell_type": "code",
      "source": [
        "import tensorflow as tf\n"
      ],
      "metadata": {
        "id": "aR_hhbkUZBaK"
      },
      "execution_count": 47,
      "outputs": []
    },
    {
      "cell_type": "code",
      "source": [
        "import numpy as np\n",
        "import matplotlib.pyplot as plt\n",
        "import pandas as pd\n",
        "import seaborn as sns"
      ],
      "metadata": {
        "id": "XpAsF91GZFEK"
      },
      "execution_count": 48,
      "outputs": []
    },
    {
      "cell_type": "code",
      "source": [
        "fashion_mnist = tf.keras.datasets.fashion_mnist"
      ],
      "metadata": {
        "id": "sF786HnXZG11"
      },
      "execution_count": 49,
      "outputs": []
    },
    {
      "cell_type": "code",
      "source": [
        "(x_train_full,y_train_full),(x_test_full,y_test_full) = fashion_mnist.load_data()"
      ],
      "metadata": {
        "id": "zaDNSi5bZLXB"
      },
      "execution_count": 53,
      "outputs": []
    },
    {
      "cell_type": "markdown",
      "source": [
        "1.FIND THE NUMBER OF CLASSES"
      ],
      "metadata": {
        "id": "2jFTGidZZcjV"
      }
    },
    {
      "cell_type": "code",
      "source": [
        "len(np.unique(y_train_full))"
      ],
      "metadata": {
        "colab": {
          "base_uri": "https://localhost:8080/"
        },
        "id": "dUzEmWS-ZiPt",
        "outputId": "47608b6d-37b6-4d85-c914-2b6b2b5ad629"
      },
      "execution_count": 55,
      "outputs": [
        {
          "output_type": "execute_result",
          "data": {
            "text/plain": [
              "10"
            ]
          },
          "metadata": {},
          "execution_count": 55
        }
      ]
    },
    {
      "cell_type": "markdown",
      "source": [
        "number of classes:10"
      ],
      "metadata": {
        "id": "DVB5gDZHZsaF"
      }
    },
    {
      "cell_type": "markdown",
      "source": [
        "2.FIND THE DIMENSION OF EACH IMAGE"
      ],
      "metadata": {
        "id": "xppETOMxZ--l"
      }
    },
    {
      "cell_type": "code",
      "source": [
        "x_train_full.shape"
      ],
      "metadata": {
        "colab": {
          "base_uri": "https://localhost:8080/"
        },
        "id": "EkgkhlfZZ6Sg",
        "outputId": "6acf15e0-a79a-4788-b923-f704e184f244"
      },
      "execution_count": 57,
      "outputs": [
        {
          "output_type": "execute_result",
          "data": {
            "text/plain": [
              "(60000, 28, 28)"
            ]
          },
          "metadata": {},
          "execution_count": 57
        }
      ]
    },
    {
      "cell_type": "markdown",
      "source": [
        "number of training examples:60000, \n",
        "dimension of each image:28x28"
      ],
      "metadata": {
        "id": "Mf61YlxoaF6C"
      }
    },
    {
      "cell_type": "markdown",
      "source": [
        "3.DISPLAY ONE IMAGE FROM EACH CLASS"
      ],
      "metadata": {
        "id": "aTItxKtXaU3_"
      }
    },
    {
      "cell_type": "code",
      "source": [
        "plt.imshow(x_train_full[0])"
      ],
      "metadata": {
        "colab": {
          "base_uri": "https://localhost:8080/",
          "height": 282
        },
        "id": "DaEcN87BaDKL",
        "outputId": "7287b0a1-0f6d-47da-f449-c297cbe3938b"
      },
      "execution_count": 64,
      "outputs": [
        {
          "output_type": "execute_result",
          "data": {
            "text/plain": [
              "<matplotlib.image.AxesImage at 0x7f9ebbfd09d0>"
            ]
          },
          "metadata": {},
          "execution_count": 64
        },
        {
          "output_type": "display_data",
          "data": {
            "text/plain": [
              "<Figure size 432x288 with 1 Axes>"
            ],
            "image/png": "[encoded data removed]"
          },
          "metadata": {
            "needs_background": "light"
          }
        }
      ]
    },
    {
      "cell_type": "code",
      "source": [
        "plt.imshow(x_train_full[1])"
      ],
      "metadata": {
        "colab": {
          "base_uri": "https://localhost:8080/",
          "height": 282
        },
        "id": "ScthG5Waaldb",
        "outputId": "9293b97a-4231-47b5-c63f-905e9d4bcacb"
      },
      "execution_count": 59,
      "outputs": [
        {
          "output_type": "execute_result",
          "data": {
            "text/plain": [
              "<matplotlib.image.AxesImage at 0x7f9ebc3ffb10>"
            ]
          },
          "metadata": {},
          "execution_count": 59
        },
        {
          "output_type": "display_data",
          "data": {
            "text/plain": [
              "<Figure size 432x288 with 1 Axes>"
            ],
            "image/png": "[encoded data removed]"
          },
          "metadata": {
            "needs_background": "light"
          }
        }
      ]
    },
    {
      "cell_type": "code",
      "source": [
        "plt.imshow(x_train_full[2])"
      ],
      "metadata": {
        "colab": {
          "base_uri": "https://localhost:8080/",
          "height": 282
        },
        "id": "PYeIAABKaqvi",
        "outputId": "55b72c4c-260c-493a-ee5c-83ec9067ed7e"
      },
      "execution_count": 60,
      "outputs": [
        {
          "output_type": "execute_result",
          "data": {
            "text/plain": [
              "<matplotlib.image.AxesImage at 0x7f9ebc36a610>"
            ]
          },
          "metadata": {},
          "execution_count": 60
        },
        {
          "output_type": "display_data",
          "data": {
            "text/plain": [
              "<Figure size 432x288 with 1 Axes>"
            ],
            "image/png": "[encoded data removed]"
          },
          "metadata": {
            "needs_background": "light"
          }
        }
      ]
    },
    {
      "cell_type": "code",
      "source": [
        "plt.imshow(x_train_full[3])"
      ],
      "metadata": {
        "colab": {
          "base_uri": "https://localhost:8080/",
          "height": 282
        },
        "id": "t-o_LkU8ash3",
        "outputId": "1bbd098a-d448-4d01-bc47-14e6168d479a"
      },
      "execution_count": 61,
      "outputs": [
        {
          "output_type": "execute_result",
          "data": {
            "text/plain": [
              "<matplotlib.image.AxesImage at 0x7f9ebc3580d0>"
            ]
          },
          "metadata": {},
          "execution_count": 61
        },
        {
          "output_type": "display_data",
          "data": {
            "text/plain": [
              "<Figure size 432x288 with 1 Axes>"
            ],
            "image/png": "[encoded data removed]"
          },
          "metadata": {
            "needs_background": "light"
          }
        }
      ]
    },
    {
      "cell_type": "code",
      "source": [
        "plt.imshow(x_train_full[4])"
      ],
      "metadata": {
        "colab": {
          "base_uri": "https://localhost:8080/",
          "height": 282
        },
        "id": "TtPFDLbUauSB",
        "outputId": "4b9174f4-f17a-4e3d-d66c-802eea425631"
      },
      "execution_count": 62,
      "outputs": [
        {
          "output_type": "execute_result",
          "data": {
            "text/plain": [
              "<matplotlib.image.AxesImage at 0x7f9ebc2b7b90>"
            ]
          },
          "metadata": {},
          "execution_count": 62
        },
        {
          "output_type": "display_data",
          "data": {
            "text/plain": [
              "<Figure size 432x288 with 1 Axes>"
            ],
            "image/png": "[encoded data removed]"
          },
          "metadata": {
            "needs_background": "light"
          }
        }
      ]
    },
    {
      "cell_type": "code",
      "source": [
        "plt.imshow(x_train_full[5])"
      ],
      "metadata": {
        "colab": {
          "base_uri": "https://localhost:8080/",
          "height": 282
        },
        "id": "Q9YnaC9xav-U",
        "outputId": "6b57987b-d7d7-4101-d69f-b76d9ab2ece3"
      },
      "execution_count": 63,
      "outputs": [
        {
          "output_type": "execute_result",
          "data": {
            "text/plain": [
              "<matplotlib.image.AxesImage at 0x7f9ebc222650>"
            ]
          },
          "metadata": {},
          "execution_count": 63
        },
        {
          "output_type": "display_data",
          "data": {
            "text/plain": [
              "<Figure size 432x288 with 1 Axes>"
            ],
            "image/png": "[encoded data removed]"
          },
          "metadata": {
            "needs_background": "light"
          }
        }
      ]
    },
    {
      "cell_type": "code",
      "source": [
        "plt.imshow(x_train_full[6])"
      ],
      "metadata": {
        "colab": {
          "base_uri": "https://localhost:8080/",
          "height": 282
        },
        "id": "bNiSDSr9axvz",
        "outputId": "23bde8ed-9f8c-475e-e4f0-bc5e7c7f2a55"
      },
      "execution_count": 65,
      "outputs": [
        {
          "output_type": "execute_result",
          "data": {
            "text/plain": [
              "<matplotlib.image.AxesImage at 0x7f9ebb703790>"
            ]
          },
          "metadata": {},
          "execution_count": 65
        },
        {
          "output_type": "display_data",
          "data": {
            "text/plain": [
              "<Figure size 432x288 with 1 Axes>"
            ],
            "image/png": "[encoded data removed]"
          },
          "metadata": {
            "needs_background": "light"
          }
        }
      ]
    },
    {
      "cell_type": "code",
      "source": [
        "plt.imshow(x_train_full[7])"
      ],
      "metadata": {
        "colab": {
          "base_uri": "https://localhost:8080/",
          "height": 282
        },
        "id": "3qNfJA1na8Aq",
        "outputId": "02f9156c-b4ee-4595-bd74-375d5c3147d5"
      },
      "execution_count": 66,
      "outputs": [
        {
          "output_type": "execute_result",
          "data": {
            "text/plain": [
              "<matplotlib.image.AxesImage at 0x7f9ebb66f290>"
            ]
          },
          "metadata": {},
          "execution_count": 66
        },
        {
          "output_type": "display_data",
          "data": {
            "text/plain": [
              "<Figure size 432x288 with 1 Axes>"
            ],
            "image/png": "[encoded data removed]"
          },
          "metadata": {
            "needs_background": "light"
          }
        }
      ]
    },
    {
      "cell_type": "code",
      "source": [
        "plt.imshow(x_train_full[8])"
      ],
      "metadata": {
        "colab": {
          "base_uri": "https://localhost:8080/",
          "height": 282
        },
        "id": "Pa_H5igqa9WU",
        "outputId": "08d6e2b5-d837-462c-e7a3-c34aa05c18be"
      },
      "execution_count": 67,
      "outputs": [
        {
          "output_type": "execute_result",
          "data": {
            "text/plain": [
              "<matplotlib.image.AxesImage at 0x7f9ebb64fd50>"
            ]
          },
          "metadata": {},
          "execution_count": 67
        },
        {
          "output_type": "display_data",
          "data": {
            "text/plain": [
              "<Figure size 432x288 with 1 Axes>"
            ],
            "image/png": "[encoded data removed]"
          },
          "metadata": {
            "needs_background": "light"
          }
        }
      ]
    },
    {
      "cell_type": "code",
      "source": [
        "plt.imshow(x_train_full[9])"
      ],
      "metadata": {
        "colab": {
          "base_uri": "https://localhost:8080/",
          "height": 282
        },
        "id": "bXAMXqlaa-qd",
        "outputId": "b5df34fe-6a5e-46df-bde7-8fcf33e5a73f"
      },
      "execution_count": 68,
      "outputs": [
        {
          "output_type": "execute_result",
          "data": {
            "text/plain": [
              "<matplotlib.image.AxesImage at 0x7f9ebb5b9850>"
            ]
          },
          "metadata": {},
          "execution_count": 68
        },
        {
          "output_type": "display_data",
          "data": {
            "text/plain": [
              "<Figure size 432x288 with 1 Axes>"
            ],
            "image/png": "[encoded data removed]"
          },
          "metadata": {
            "needs_background": "light"
          }
        }
      ]
    },
    {
      "cell_type": "code",
      "source": [
        "for i in range(9):\n",
        "    plt.subplot(330+1+i)\n",
        "    plt.imshow(x_train_full[i],cmap='gray')\n",
        "plt.show() "
      ],
      "metadata": {
        "colab": {
          "base_uri": "https://localhost:8080/",
          "height": 268
        },
        "id": "UuoMm-FtbAJM",
        "outputId": "f078c451-c633-4d9d-841c-315098d2a97c"
      },
      "execution_count": 70,
      "outputs": [
        {
          "output_type": "display_data",
          "data": {
            "text/plain": [
              "<Figure size 432x288 with 9 Axes>"
            ],
            "image/png": "[encoded data removed]"
          },
          "metadata": {
            "needs_background": "light"
          }
        }
      ]
    },
    {
      "cell_type": "markdown",
      "source": [
        "4.PERFORM NORMALIZATION"
      ],
      "metadata": {
        "id": "zb4J4L4DbUJy"
      }
    },
    {
      "cell_type": "code",
      "source": [
        "x_train_full = x_train_full/255\n",
        "x_test_full  = x_test_full/255\n"
      ],
      "metadata": {
        "id": "izCcBENWbH1g"
      },
      "execution_count": 72,
      "outputs": []
    },
    {
      "cell_type": "markdown",
      "source": [
        "5.Build two neural networks with 2 hidden layers and 5 hidden layers"
      ],
      "metadata": {
        "id": "MPOVUHznbcnr"
      }
    },
    {
      "cell_type": "markdown",
      "source": [
        "MODEL1 (2 hidden layers)"
      ],
      "metadata": {
        "id": "XsEcbzv2bg37"
      }
    },
    {
      "cell_type": "code",
      "source": [
        "model1 = tf.keras.Sequential()\n",
        "model1.add(tf.keras.layers.Flatten(input_shape=[28,28], name=\"inputLayer\"))\n",
        "model1.add(tf.keras.layers.Dense(300, activation=\"relu\", name=\"HiddenLayer1\"))\n",
        "model1.add(tf.keras.layers.Dense(100, activation=\"relu\", name=\"HiddenLayer2\"))\n",
        "model1.add(tf.keras.layers.Dense(10, activation=\"softmax\", name=\"outputLayer\"))\n",
        "model1.summary()"
      ],
      "metadata": {
        "colab": {
          "base_uri": "https://localhost:8080/"
        },
        "id": "DrnhT7g1bW4b",
        "outputId": "ea615e6f-620c-48f5-e2af-bc6c5d7eea38"
      },
      "execution_count": 73,
      "outputs": [
        {
          "output_type": "stream",
          "name": "stdout",
          "text": [
            "Model: \"sequential_2\"\n",
            "_________________________________________________________________\n",
            " Layer (type)                Output Shape              Param #   \n",
            "=================================================================\n",
            " inputLayer (Flatten)        (None, 784)               0         \n",
            "                                                                 \n",
            " HiddenLayer1 (Dense)        (None, 300)               235500    \n",
            "                                                                 \n",
            " HiddenLayer2 (Dense)        (None, 100)               30100     \n",
            "                                                                 \n",
            " outputLayer (Dense)         (None, 10)                1010      \n",
            "                                                                 \n",
            "=================================================================\n",
            "Total params: 266,610\n",
            "Trainable params: 266,610\n",
            "Non-trainable params: 0\n",
            "_________________________________________________________________\n"
          ]
        }
      ]
    },
    {
      "cell_type": "code",
      "source": [
        "model1.compile(loss=\"sparse_categorical_crossentropy\",optimizer=\"adam\", metrics=[\"accuracy\"])\n",
        "batch_size = 32\n",
        "epochs = 15\n",
        "history = model1.fit(x_train_full, y_train_full,batch_size=batch_size, epochs=epochs, validation_split=0.1)"
      ],
      "metadata": {
        "colab": {
          "base_uri": "https://localhost:8080/"
        },
        "id": "th8UBMJ4boip",
        "outputId": "154417d6-7250-4fa9-c59c-04c03616351f"
      },
      "execution_count": 74,
      "outputs": [
        {
          "output_type": "stream",
          "name": "stdout",
          "text": [
            "Epoch 1/15\n",
            "1688/1688 [==============================] - 10s 6ms/step - loss: 0.8143 - accuracy: 0.7040 - val_loss: 0.5827 - val_accuracy: 0.7832\n",
            "Epoch 2/15\n",
            "1688/1688 [==============================] - 9s 5ms/step - loss: 0.5475 - accuracy: 0.8032 - val_loss: 0.5165 - val_accuracy: 0.8148\n",
            "Epoch 3/15\n",
            "1688/1688 [==============================] - 9s 5ms/step - loss: 0.4838 - accuracy: 0.8263 - val_loss: 0.4604 - val_accuracy: 0.8373\n",
            "Epoch 4/15\n",
            "1688/1688 [==============================] - 9s 6ms/step - loss: 0.4459 - accuracy: 0.8405 - val_loss: 0.4308 - val_accuracy: 0.8397\n",
            "Epoch 5/15\n",
            "1688/1688 [==============================] - 9s 6ms/step - loss: 0.4200 - accuracy: 0.8490 - val_loss: 0.4245 - val_accuracy: 0.8467\n",
            "Epoch 6/15\n",
            "1688/1688 [==============================] - 10s 6ms/step - loss: 0.3999 - accuracy: 0.8563 - val_loss: 0.3918 - val_accuracy: 0.8595\n",
            "Epoch 7/15\n",
            "1688/1688 [==============================] - 9s 5ms/step - loss: 0.3856 - accuracy: 0.8608 - val_loss: 0.3930 - val_accuracy: 0.8568\n",
            "Epoch 8/15\n",
            "1688/1688 [==============================] - 9s 5ms/step - loss: 0.3714 - accuracy: 0.8662 - val_loss: 0.3740 - val_accuracy: 0.8655\n",
            "Epoch 9/15\n",
            "1688/1688 [==============================] - 9s 5ms/step - loss: 0.3574 - accuracy: 0.8718 - val_loss: 0.3699 - val_accuracy: 0.8623\n",
            "Epoch 10/15\n",
            "1688/1688 [==============================] - 9s 5ms/step - loss: 0.3479 - accuracy: 0.8738 - val_loss: 0.3710 - val_accuracy: 0.8658\n",
            "Epoch 11/15\n",
            "1688/1688 [==============================] - 10s 6ms/step - loss: 0.3383 - accuracy: 0.8772 - val_loss: 0.3532 - val_accuracy: 0.8703\n",
            "Epoch 12/15\n",
            "1688/1688 [==============================] - 10s 6ms/step - loss: 0.3286 - accuracy: 0.8800 - val_loss: 0.3688 - val_accuracy: 0.8648\n",
            "Epoch 13/15\n",
            "1688/1688 [==============================] - 9s 5ms/step - loss: 0.3196 - accuracy: 0.8842 - val_loss: 0.3365 - val_accuracy: 0.8762\n",
            "Epoch 14/15\n",
            "1688/1688 [==============================] - 9s 5ms/step - loss: 0.3122 - accuracy: 0.8859 - val_loss: 0.3353 - val_accuracy: 0.8792\n",
            "Epoch 15/15\n",
            "1688/1688 [==============================] - 9s 6ms/step - loss: 0.3044 - accuracy: 0.8895 - val_loss: 0.3655 - val_accuracy: 0.8615\n"
          ]
        }
      ]
    },
    {
      "cell_type": "code",
      "source": [
        "model1.evaluate(x_test_full, y_test_full)"
      ],
      "metadata": {
        "colab": {
          "base_uri": "https://localhost:8080/"
        },
        "id": "otDApsoXbr9K",
        "outputId": "24ee9e11-f8ff-4ea5-b159-556948e07b39"
      },
      "execution_count": 75,
      "outputs": [
        {
          "output_type": "stream",
          "name": "stdout",
          "text": [
            "313/313 [==============================] - 1s 3ms/step - loss: 0.3854 - accuracy: 0.8598\n"
          ]
        },
        {
          "output_type": "execute_result",
          "data": {
            "text/plain": [
              "[0.3854069709777832, 0.8597999811172485]"
            ]
          },
          "metadata": {},
          "execution_count": 75
        }
      ]
    },
    {
      "cell_type": "markdown",
      "source": [
        "MODEL2 (5 hidden layers)"
      ],
      "metadata": {
        "id": "1qxG1IZEcTUg"
      }
    },
    {
      "cell_type": "code",
      "source": [
        "model2 = tf.keras.Sequential()\n",
        "model2.add(tf.keras.layers.Flatten(input_shape=[28,28], name=\"inputLayer\"))\n",
        "model2.add(tf.keras.layers.Dense(300, activation=\"relu\", name=\"HiddenLayer1\"))\n",
        "model2.add(tf.keras.layers.Dense(100, activation=\"relu\", name=\"HiddenLayer2\"))\n",
        "model2.add(tf.keras.layers.Dense(80, activation=\"relu\", name=\"HiddenLayer3\"))\n",
        "model2.add(tf.keras.layers.Dense(50, activation=\"relu\", name=\"HiddenLayer4\"))\n",
        "model2.add(tf.keras.layers.Dense(20, activation=\"relu\", name=\"HiddenLayer5\"))\n",
        "model2.add(tf.keras.layers.Dense(10, activation=\"softmax\", name=\"outputLayer\"))\n",
        "model2.summary()"
      ],
      "metadata": {
        "colab": {
          "base_uri": "https://localhost:8080/"
        },
        "id": "jDXaLVkncO-l",
        "outputId": "8ea481c2-365e-4a6f-cf6c-653049f118d9"
      },
      "execution_count": 78,
      "outputs": [
        {
          "output_type": "stream",
          "name": "stdout",
          "text": [
            "Model: \"sequential_4\"\n",
            "_________________________________________________________________\n",
            " Layer (type)                Output Shape              Param #   \n",
            "=================================================================\n",
            " inputLayer (Flatten)        (None, 784)               0         \n",
            "                                                                 \n",
            " HiddenLayer1 (Dense)        (None, 300)               235500    \n",
            "                                                                 \n",
            " HiddenLayer2 (Dense)        (None, 100)               30100     \n",
            "                                                                 \n",
            " HiddenLayer3 (Dense)        (None, 80)                8080      \n",
            "                                                                 \n",
            " HiddenLayer4 (Dense)        (None, 50)                4050      \n",
            "                                                                 \n",
            " HiddenLayer5 (Dense)        (None, 20)                1020      \n",
            "                                                                 \n",
            " outputLayer (Dense)         (None, 10)                210       \n",
            "                                                                 \n",
            "=================================================================\n",
            "Total params: 278,960\n",
            "Trainable params: 278,960\n",
            "Non-trainable params: 0\n",
            "_________________________________________________________________\n"
          ]
        }
      ]
    },
    {
      "cell_type": "code",
      "source": [
        "model2.compile(loss=\"sparse_categorical_crossentropy\",optimizer=\"adam\", metrics=[\"accuracy\"])\n",
        "batch_size = 32\n",
        "epochs = 15\n",
        "history2 = model2.fit(x_train_full, y_train_full,batch_size=batch_size, epochs=epochs, validation_split=0.1)"
      ],
      "metadata": {
        "colab": {
          "base_uri": "https://localhost:8080/"
        },
        "id": "PgaVb7Okcd85",
        "outputId": "315f8624-8f0d-41b1-c97f-0d6fe7cab422"
      },
      "execution_count": 79,
      "outputs": [
        {
          "output_type": "stream",
          "name": "stdout",
          "text": [
            "Epoch 1/15\n",
            "1688/1688 [==============================] - 11s 6ms/step - loss: 0.8941 - accuracy: 0.6490 - val_loss: 0.6587 - val_accuracy: 0.7655\n",
            "Epoch 2/15\n",
            "1688/1688 [==============================] - 10s 6ms/step - loss: 0.5808 - accuracy: 0.7910 - val_loss: 0.5099 - val_accuracy: 0.8188\n",
            "Epoch 3/15\n",
            "1688/1688 [==============================] - 10s 6ms/step - loss: 0.4897 - accuracy: 0.8239 - val_loss: 0.4594 - val_accuracy: 0.8365\n",
            "Epoch 4/15\n",
            "1688/1688 [==============================] - 10s 6ms/step - loss: 0.4418 - accuracy: 0.8405 - val_loss: 0.4282 - val_accuracy: 0.8433\n",
            "Epoch 5/15\n",
            "1688/1688 [==============================] - 10s 6ms/step - loss: 0.4159 - accuracy: 0.8504 - val_loss: 0.3961 - val_accuracy: 0.8553\n",
            "Epoch 6/15\n",
            "1688/1688 [==============================] - 12s 7ms/step - loss: 0.3912 - accuracy: 0.8579 - val_loss: 0.4068 - val_accuracy: 0.8515\n",
            "Epoch 7/15\n",
            "1688/1688 [==============================] - 13s 8ms/step - loss: 0.3726 - accuracy: 0.8650 - val_loss: 0.3724 - val_accuracy: 0.8645\n",
            "Epoch 8/15\n",
            "1688/1688 [==============================] - 13s 8ms/step - loss: 0.3575 - accuracy: 0.8699 - val_loss: 0.3588 - val_accuracy: 0.8703\n",
            "Epoch 9/15\n",
            "1688/1688 [==============================] - 12s 7ms/step - loss: 0.3445 - accuracy: 0.8735 - val_loss: 0.4344 - val_accuracy: 0.8405\n",
            "Epoch 10/15\n",
            "1688/1688 [==============================] - 10s 6ms/step - loss: 0.3342 - accuracy: 0.8782 - val_loss: 0.3469 - val_accuracy: 0.8735\n",
            "Epoch 11/15\n",
            "1688/1688 [==============================] - 10s 6ms/step - loss: 0.3242 - accuracy: 0.8816 - val_loss: 0.3545 - val_accuracy: 0.8713\n",
            "Epoch 12/15\n",
            "1688/1688 [==============================] - 10s 6ms/step - loss: 0.3154 - accuracy: 0.8856 - val_loss: 0.3591 - val_accuracy: 0.8717\n",
            "Epoch 13/15\n",
            "1688/1688 [==============================] - 10s 6ms/step - loss: 0.3089 - accuracy: 0.8882 - val_loss: 0.3550 - val_accuracy: 0.8707\n",
            "Epoch 14/15\n",
            "1688/1688 [==============================] - 10s 6ms/step - loss: 0.2997 - accuracy: 0.8898 - val_loss: 0.3410 - val_accuracy: 0.8737\n",
            "Epoch 15/15\n",
            "1688/1688 [==============================] - 9s 6ms/step - loss: 0.2918 - accuracy: 0.8932 - val_loss: 0.3571 - val_accuracy: 0.8782\n"
          ]
        }
      ]
    },
    {
      "cell_type": "code",
      "source": [
        "model2.evaluate(x_test_full, y_test_full)"
      ],
      "metadata": {
        "colab": {
          "base_uri": "https://localhost:8080/"
        },
        "id": "FJhyPv6hcsn9",
        "outputId": "8bdb890d-7a01-438e-cbd0-396cf279bdfb"
      },
      "execution_count": 80,
      "outputs": [
        {
          "output_type": "stream",
          "name": "stdout",
          "text": [
            "313/313 [==============================] - 1s 3ms/step - loss: 0.3908 - accuracy: 0.8656\n"
          ]
        },
        {
          "output_type": "execute_result",
          "data": {
            "text/plain": [
              "[0.39075610041618347, 0.8655999898910522]"
            ]
          },
          "metadata": {},
          "execution_count": 80
        }
      ]
    },
    {
      "cell_type": "markdown",
      "source": [
        "7.COMPARE BOTH MODELS"
      ],
      "metadata": {
        "id": "1qxCULpvddUA"
      }
    },
    {
      "cell_type": "markdown",
      "source": [
        "MODEL1 ACCURACY:0.8598,  \n",
        " MODEL2 ACCURACY:0.8656\n",
        "\n",
        "WE CAN SEE MODEL2's ACCURACY INCREASED BY SOME DECIMALS\n",
        "THIS STATES THAT BY ADDING FEW HIDDEN LAYERS, THE ACCURACY INCREASES.\n",
        "\n",
        "(BUT NOT TRUE IN ALL CASES, LIKE IF THE MODEL OVERFITS BY ADDING MORE HIDDEN LAYERS THAN REQUIRED, IT MAY SHOW NEGATIVE IMPACT ON ACCURACY)\n",
        "\n"
      ],
      "metadata": {
        "id": "viRskH_mdy5A"
      }
    }
  ]
}